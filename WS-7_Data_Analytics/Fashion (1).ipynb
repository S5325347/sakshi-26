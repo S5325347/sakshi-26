{
  "cells": [
    {
      "cell_type": "markdown",
      "metadata": {
        "id": "2DWw83AJkYjk"
      },
      "source": [
        "# Image Classification by MLP - Fashion MNIST"
      ]
    },
    {
      "cell_type": "markdown",
      "metadata": {
        "id": "v6yqOQUGkYjn"
      },
      "source": [
        "In this exercise, we will try to use a neural network on a simple classification task: classifying images of clothes into 10 classes."
      ]
    },
    {
      "cell_type": "markdown",
      "source": [],
      "metadata": {
        "id": "n2Qv6IcjmkCL"
      }
    },
    {
      "cell_type": "markdown",
      "metadata": {
        "id": "f1mrs4idkYjn"
      },
      "source": [
        "We will first download the data:"
      ]
    },
    {
      "cell_type": "code",
      "execution_count": 3,
      "metadata": {
        "scrolled": true,
        "colab": {
          "base_uri": "https://localhost:8080/"
        },
        "id": "5yDf1qvokYjo",
        "outputId": "6b6c5d95-eb36-4b65-efea-eaf5e885dd33"
      },
      "outputs": [
        {
          "output_type": "execute_result",
          "data": {
            "text/plain": [
              "(10000, 28, 28)"
            ]
          },
          "metadata": {},
          "execution_count": 3
        }
      ],
      "source": [
        "from tensorflow.keras.datasets import fashion_mnist\n",
        "\n",
        "#TODO: load dataset\n",
        "(X_train, y_train), (X_test, y_test) = fashion_mnist.load_data()\n",
        "\n",
        "#TODO: Resample the dataset if needed\n",
        "X_train = X_train[:10000]\n",
        "y_train = y_train[:10000]\n",
        "X_train.shape"
      ]
    },
    {
      "cell_type": "markdown",
      "metadata": {
        "id": "wdc7X2yQkYjq"
      },
      "source": [
        "This dataset contains 10 classes:\n",
        "* 0:\tT-shirt/top\n",
        "* 1:\tTrouser\n",
        "* 2:\tPullover\n",
        "* 3:\tDress\n",
        "* 4:\tCoat\n",
        "* 5:\tSandal\n",
        "* 6:\tShirt\n",
        "* 7:\tSneaker\n",
        "* 8:\tBag\n",
        "* 9:\tAnkle boot"
      ]
    },
    {
      "cell_type": "markdown",
      "metadata": {
        "id": "lpmsafamkYjq"
      },
      "source": [
        "Now begin by exploring the data. Try to display some images with the associated label."
      ]
    },
    {
      "cell_type": "code",
      "execution_count": 16,
      "metadata": {
        "scrolled": true,
        "colab": {
          "base_uri": "https://localhost:8080/",
          "height": 452
        },
        "id": "P0vdwEiakYjq",
        "outputId": "7903decf-9ecb-4bf3-d22d-4efca42ff990"
      },
      "outputs": [
        {
          "output_type": "display_data",
          "data": {
            "text/plain": [
              "<Figure size 640x480 with 1 Axes>"
            ],
            "image/png": "[encoded data removed]"
          },
          "metadata": {}
        }
      ],
      "source": [
        "# TODO: Explore the data, display some input images\n",
        "%matplotlib inline\n",
        "import matplotlib.pyplot as plt\n",
        "import numpy as np\n",
        "\n",
        "label_class = ['top', 'trouser', 'pullover', 'dress', 'coat', 'sandal', 'shirt', 'sneaker', 'bag', 'ankle boot']\n",
        "\n",
        "# np.random.seed(0)\n",
        "idx = np.random.randint(X_train.shape[0])\n",
        "plt.imshow(X_train[idx], cmap='gray')\n",
        "plt.title(format(label_class[y_train[idx]]))\n",
        "plt.axis()\n",
        "plt.show()"
      ]
    },
    {
      "cell_type": "markdown",
      "metadata": {
        "id": "HXeV8KW3kYjr"
      },
      "source": [
        "**Before going further**: what methods could you use to perform such a classification task?"
      ]
    },
    {
      "cell_type": "markdown",
      "metadata": {
        "id": "dtos2kj8kYjr"
      },
      "source": [
        "---"
      ]
    },
    {
      "cell_type": "markdown",
      "metadata": {
        "id": "2jP7rg_jkYjr"
      },
      "source": [
        "The first method you will try is using neural networks. First step is the data preparation: data rescaling, label preparation.\n",
        "\n",
        "Hint: you can use the Keras function `to_categorical`"
      ]
    },
    {
      "cell_type": "code",
      "execution_count": 17,
      "metadata": {
        "id": "O4ElfVnDkYjr"
      },
      "outputs": [],
      "source": [
        "# TODO: Make the data preparation\n",
        "from tensorflow.keras.utils import to_categorical\n",
        "\n",
        "y_train_cat = to_categorical(y_train)\n",
        "y_test_cat = to_categorical(y_test)\n",
        "\n",
        "\n",
        "X_train_norm = X_train / 255.0\n",
        "X_test_norm = X_test / 255.0\n",
        "\n",
        "# TODO: reshape the image data (2D array) into input 1D array for a neural network\n",
        "X_train_norm = X_train_norm.reshape(-1, 784)\n",
        "X_test_norm = X_test_norm.reshape(-1, 784)"
      ]
    },
    {
      "cell_type": "markdown",
      "metadata": {
        "id": "OygC92P8kYjs"
      },
      "source": [
        "Next step: model building with Keras. Build your neural network architecture. At first, I would recommend a light architecture: no more than 2 hidden layers, with about 10 units per layer. Put that model into a function, so that you can reuse it later."
      ]
    },
    {
      "cell_type": "code",
      "execution_count": 18,
      "metadata": {
        "id": "jmo_6xI5kYjs"
      },
      "outputs": [],
      "source": [
        "# TODO: Build your model\n",
        "from tensorflow.keras.models import Sequential\n",
        "from tensorflow.keras.layers import Dense\n",
        "\n",
        "def my_model(input_dim):\n",
        "    # Create the Sequential object\n",
        "    model = Sequential()\n",
        "\n",
        "    # Add 2 dense layers with 10 neurons each using sigmoid or relu activation\n",
        "    model.add(Dense(10, activation='relu', input_dim=input_dim))\n",
        "    model.add(Dense(10, activation='relu'))\n",
        "\n",
        "    # Add the output layer with one unit: the predicted result\n",
        "    model.add(Dense(10, activation='softmax'))\n",
        "\n",
        "    return model"
      ]
    },
    {
      "cell_type": "markdown",
      "metadata": {
        "id": "eMfj5NGkkYjs"
      },
      "source": [
        "Now compile and fit your model on your training data. Since this is a multiclass classification, the loss is not `binary_crossentropy` anymore, but `categorical_crossentropy`."
      ]
    },
    {
      "cell_type": "code",
      "execution_count": 19,
      "metadata": {
        "scrolled": true,
        "colab": {
          "base_uri": "https://localhost:8080/"
        },
        "id": "hVzG9fUbkYjs",
        "outputId": "a8e5bb41-1ee5-4b6f-8d4c-0389adc15542"
      },
      "outputs": [
        {
          "output_type": "stream",
          "name": "stdout",
          "text": [
            "Epoch 1/100\n",
            "79/79 [==============================] - 1s 3ms/step - loss: 1.7864 - accuracy: 0.3580\n",
            "Epoch 2/100\n",
            "79/79 [==============================] - 0s 3ms/step - loss: 1.1248 - accuracy: 0.6276\n",
            "Epoch 3/100\n",
            "79/79 [==============================] - 0s 2ms/step - loss: 0.8537 - accuracy: 0.6965\n",
            "Epoch 4/100\n",
            "79/79 [==============================] - 0s 3ms/step - loss: 0.7190 - accuracy: 0.7384\n",
            "Epoch 5/100\n",
            "79/79 [==============================] - 0s 3ms/step - loss: 0.6383 - accuracy: 0.7738\n",
            "Epoch 6/100\n",
            "79/79 [==============================] - 0s 3ms/step - loss: 0.5872 - accuracy: 0.7964\n",
            "Epoch 7/100\n",
            "79/79 [==============================] - 0s 3ms/step - loss: 0.5554 - accuracy: 0.8116\n",
            "Epoch 8/100\n",
            "79/79 [==============================] - 0s 2ms/step - loss: 0.5266 - accuracy: 0.8217\n",
            "Epoch 9/100\n",
            "79/79 [==============================] - 0s 3ms/step - loss: 0.5096 - accuracy: 0.8269\n",
            "Epoch 10/100\n",
            "79/79 [==============================] - 0s 3ms/step - loss: 0.4939 - accuracy: 0.8306\n",
            "Epoch 11/100\n",
            "79/79 [==============================] - 0s 2ms/step - loss: 0.4794 - accuracy: 0.8358\n",
            "Epoch 12/100\n",
            "79/79 [==============================] - 0s 2ms/step - loss: 0.4749 - accuracy: 0.8375\n",
            "Epoch 13/100\n",
            "79/79 [==============================] - 0s 3ms/step - loss: 0.4584 - accuracy: 0.8441\n",
            "Epoch 14/100\n",
            "79/79 [==============================] - 0s 3ms/step - loss: 0.4511 - accuracy: 0.8432\n",
            "Epoch 15/100\n",
            "79/79 [==============================] - 0s 2ms/step - loss: 0.4458 - accuracy: 0.8429\n",
            "Epoch 16/100\n",
            "79/79 [==============================] - 0s 3ms/step - loss: 0.4372 - accuracy: 0.8457\n",
            "Epoch 17/100\n",
            "79/79 [==============================] - 0s 2ms/step - loss: 0.4296 - accuracy: 0.8525\n",
            "Epoch 18/100\n",
            "79/79 [==============================] - 0s 3ms/step - loss: 0.4227 - accuracy: 0.8545\n",
            "Epoch 19/100\n",
            "79/79 [==============================] - 0s 2ms/step - loss: 0.4169 - accuracy: 0.8552\n",
            "Epoch 20/100\n",
            "79/79 [==============================] - 0s 3ms/step - loss: 0.4113 - accuracy: 0.8566\n",
            "Epoch 21/100\n",
            "79/79 [==============================] - 0s 2ms/step - loss: 0.4041 - accuracy: 0.8567\n",
            "Epoch 22/100\n",
            "79/79 [==============================] - 0s 3ms/step - loss: 0.3991 - accuracy: 0.8585\n",
            "Epoch 23/100\n",
            "79/79 [==============================] - 0s 3ms/step - loss: 0.3951 - accuracy: 0.8611\n",
            "Epoch 24/100\n",
            "79/79 [==============================] - 0s 3ms/step - loss: 0.3915 - accuracy: 0.8630\n",
            "Epoch 25/100\n",
            "79/79 [==============================] - 0s 2ms/step - loss: 0.3871 - accuracy: 0.8637\n",
            "Epoch 26/100\n",
            "79/79 [==============================] - 0s 2ms/step - loss: 0.3853 - accuracy: 0.8646\n",
            "Epoch 27/100\n",
            "79/79 [==============================] - 0s 3ms/step - loss: 0.3770 - accuracy: 0.8658\n",
            "Epoch 28/100\n",
            "79/79 [==============================] - 0s 3ms/step - loss: 0.3753 - accuracy: 0.8680\n",
            "Epoch 29/100\n",
            "79/79 [==============================] - 0s 2ms/step - loss: 0.3707 - accuracy: 0.8679\n",
            "Epoch 30/100\n",
            "79/79 [==============================] - 0s 3ms/step - loss: 0.3673 - accuracy: 0.8703\n",
            "Epoch 31/100\n",
            "79/79 [==============================] - 0s 3ms/step - loss: 0.3631 - accuracy: 0.8731\n",
            "Epoch 32/100\n",
            "79/79 [==============================] - 0s 3ms/step - loss: 0.3596 - accuracy: 0.8714\n",
            "Epoch 33/100\n",
            "79/79 [==============================] - 0s 3ms/step - loss: 0.3585 - accuracy: 0.8724\n",
            "Epoch 34/100\n",
            "79/79 [==============================] - 0s 2ms/step - loss: 0.3543 - accuracy: 0.8747\n",
            "Epoch 35/100\n",
            "79/79 [==============================] - 0s 2ms/step - loss: 0.3525 - accuracy: 0.8730\n",
            "Epoch 36/100\n",
            "79/79 [==============================] - 0s 3ms/step - loss: 0.3475 - accuracy: 0.8779\n",
            "Epoch 37/100\n",
            "79/79 [==============================] - 0s 3ms/step - loss: 0.3470 - accuracy: 0.8756\n",
            "Epoch 38/100\n",
            "79/79 [==============================] - 0s 3ms/step - loss: 0.3433 - accuracy: 0.8788\n",
            "Epoch 39/100\n",
            "79/79 [==============================] - 0s 3ms/step - loss: 0.3430 - accuracy: 0.8768\n",
            "Epoch 40/100\n",
            "79/79 [==============================] - 0s 3ms/step - loss: 0.3433 - accuracy: 0.8766\n",
            "Epoch 41/100\n",
            "79/79 [==============================] - 0s 4ms/step - loss: 0.3345 - accuracy: 0.8808\n",
            "Epoch 42/100\n",
            "79/79 [==============================] - 0s 4ms/step - loss: 0.3312 - accuracy: 0.8826\n",
            "Epoch 43/100\n",
            "79/79 [==============================] - 0s 4ms/step - loss: 0.3291 - accuracy: 0.8835\n",
            "Epoch 44/100\n",
            "79/79 [==============================] - 0s 4ms/step - loss: 0.3296 - accuracy: 0.8830\n",
            "Epoch 45/100\n",
            "79/79 [==============================] - 0s 4ms/step - loss: 0.3258 - accuracy: 0.8833\n",
            "Epoch 46/100\n",
            "79/79 [==============================] - 0s 4ms/step - loss: 0.3238 - accuracy: 0.8834\n",
            "Epoch 47/100\n",
            "79/79 [==============================] - 0s 4ms/step - loss: 0.3274 - accuracy: 0.8804\n",
            "Epoch 48/100\n",
            "79/79 [==============================] - 0s 5ms/step - loss: 0.3166 - accuracy: 0.8860\n",
            "Epoch 49/100\n",
            "79/79 [==============================] - 0s 3ms/step - loss: 0.3237 - accuracy: 0.8856\n",
            "Epoch 50/100\n",
            "79/79 [==============================] - 0s 3ms/step - loss: 0.3168 - accuracy: 0.8890\n",
            "Epoch 51/100\n",
            "79/79 [==============================] - 0s 2ms/step - loss: 0.3104 - accuracy: 0.8903\n",
            "Epoch 52/100\n",
            "79/79 [==============================] - 0s 3ms/step - loss: 0.3074 - accuracy: 0.8917\n",
            "Epoch 53/100\n",
            "79/79 [==============================] - 0s 2ms/step - loss: 0.3091 - accuracy: 0.8911\n",
            "Epoch 54/100\n",
            "79/79 [==============================] - 0s 2ms/step - loss: 0.3095 - accuracy: 0.8905\n",
            "Epoch 55/100\n",
            "79/79 [==============================] - 0s 2ms/step - loss: 0.3068 - accuracy: 0.8916\n",
            "Epoch 56/100\n",
            "79/79 [==============================] - 0s 2ms/step - loss: 0.3076 - accuracy: 0.8901\n",
            "Epoch 57/100\n",
            "79/79 [==============================] - 0s 3ms/step - loss: 0.3056 - accuracy: 0.8884\n",
            "Epoch 58/100\n",
            "79/79 [==============================] - 0s 3ms/step - loss: 0.2994 - accuracy: 0.8913\n",
            "Epoch 59/100\n",
            "79/79 [==============================] - 0s 3ms/step - loss: 0.2995 - accuracy: 0.8940\n",
            "Epoch 60/100\n",
            "79/79 [==============================] - 0s 2ms/step - loss: 0.2930 - accuracy: 0.8959\n",
            "Epoch 61/100\n",
            "79/79 [==============================] - 0s 2ms/step - loss: 0.2963 - accuracy: 0.8953\n",
            "Epoch 62/100\n",
            "79/79 [==============================] - 0s 3ms/step - loss: 0.2962 - accuracy: 0.8907\n",
            "Epoch 63/100\n",
            "79/79 [==============================] - 0s 2ms/step - loss: 0.2905 - accuracy: 0.8980\n",
            "Epoch 64/100\n",
            "79/79 [==============================] - 0s 2ms/step - loss: 0.2911 - accuracy: 0.8980\n",
            "Epoch 65/100\n",
            "79/79 [==============================] - 0s 2ms/step - loss: 0.2844 - accuracy: 0.9000\n",
            "Epoch 66/100\n",
            "79/79 [==============================] - 0s 2ms/step - loss: 0.2850 - accuracy: 0.8973\n",
            "Epoch 67/100\n",
            "79/79 [==============================] - 0s 3ms/step - loss: 0.2865 - accuracy: 0.8973\n",
            "Epoch 68/100\n",
            "79/79 [==============================] - 0s 3ms/step - loss: 0.2848 - accuracy: 0.8992\n",
            "Epoch 69/100\n",
            "79/79 [==============================] - 0s 2ms/step - loss: 0.2857 - accuracy: 0.8952\n",
            "Epoch 70/100\n",
            "79/79 [==============================] - 0s 2ms/step - loss: 0.2798 - accuracy: 0.8991\n",
            "Epoch 71/100\n",
            "79/79 [==============================] - 0s 2ms/step - loss: 0.2752 - accuracy: 0.9025\n",
            "Epoch 72/100\n",
            "79/79 [==============================] - 0s 3ms/step - loss: 0.2767 - accuracy: 0.9008\n",
            "Epoch 73/100\n",
            "79/79 [==============================] - 0s 3ms/step - loss: 0.2716 - accuracy: 0.9044\n",
            "Epoch 74/100\n",
            "79/79 [==============================] - 0s 3ms/step - loss: 0.2699 - accuracy: 0.9067\n",
            "Epoch 75/100\n",
            "79/79 [==============================] - 0s 2ms/step - loss: 0.2721 - accuracy: 0.9028\n",
            "Epoch 76/100\n",
            "79/79 [==============================] - 0s 2ms/step - loss: 0.2702 - accuracy: 0.9032\n",
            "Epoch 77/100\n",
            "79/79 [==============================] - 0s 3ms/step - loss: 0.2740 - accuracy: 0.9030\n",
            "Epoch 78/100\n",
            "79/79 [==============================] - 0s 3ms/step - loss: 0.2675 - accuracy: 0.9031\n",
            "Epoch 79/100\n",
            "79/79 [==============================] - 0s 3ms/step - loss: 0.2648 - accuracy: 0.9069\n",
            "Epoch 80/100\n",
            "79/79 [==============================] - 0s 3ms/step - loss: 0.2694 - accuracy: 0.9042\n",
            "Epoch 81/100\n",
            "79/79 [==============================] - 0s 3ms/step - loss: 0.2637 - accuracy: 0.9027\n",
            "Epoch 82/100\n",
            "79/79 [==============================] - 0s 3ms/step - loss: 0.2666 - accuracy: 0.9048\n",
            "Epoch 83/100\n",
            "79/79 [==============================] - 0s 3ms/step - loss: 0.2641 - accuracy: 0.9055\n",
            "Epoch 84/100\n",
            "79/79 [==============================] - 0s 3ms/step - loss: 0.2584 - accuracy: 0.9075\n",
            "Epoch 85/100\n",
            "79/79 [==============================] - 0s 2ms/step - loss: 0.2550 - accuracy: 0.9101\n",
            "Epoch 86/100\n",
            "79/79 [==============================] - 0s 3ms/step - loss: 0.2564 - accuracy: 0.9072\n",
            "Epoch 87/100\n",
            "79/79 [==============================] - 0s 3ms/step - loss: 0.2562 - accuracy: 0.9049\n",
            "Epoch 88/100\n",
            "79/79 [==============================] - 0s 2ms/step - loss: 0.2580 - accuracy: 0.9078\n",
            "Epoch 89/100\n",
            "79/79 [==============================] - 0s 2ms/step - loss: 0.2521 - accuracy: 0.9106\n",
            "Epoch 90/100\n",
            "79/79 [==============================] - 0s 2ms/step - loss: 0.2584 - accuracy: 0.9065\n",
            "Epoch 91/100\n",
            "79/79 [==============================] - 0s 3ms/step - loss: 0.2470 - accuracy: 0.9127\n",
            "Epoch 92/100\n",
            "79/79 [==============================] - 0s 3ms/step - loss: 0.2488 - accuracy: 0.9130\n",
            "Epoch 93/100\n",
            "79/79 [==============================] - 0s 3ms/step - loss: 0.2515 - accuracy: 0.9100\n",
            "Epoch 94/100\n",
            "79/79 [==============================] - 0s 3ms/step - loss: 0.2503 - accuracy: 0.9090\n",
            "Epoch 95/100\n",
            "79/79 [==============================] - 0s 3ms/step - loss: 0.2497 - accuracy: 0.9100\n",
            "Epoch 96/100\n",
            "79/79 [==============================] - 0s 4ms/step - loss: 0.2438 - accuracy: 0.9135\n",
            "Epoch 97/100\n",
            "79/79 [==============================] - 0s 4ms/step - loss: 0.2408 - accuracy: 0.9144\n",
            "Epoch 98/100\n",
            "79/79 [==============================] - 0s 5ms/step - loss: 0.2483 - accuracy: 0.9135\n",
            "Epoch 99/100\n",
            "79/79 [==============================] - 0s 4ms/step - loss: 0.2451 - accuracy: 0.9138\n",
            "Epoch 100/100\n",
            "79/79 [==============================] - 0s 4ms/step - loss: 0.2394 - accuracy: 0.9158\n"
          ]
        },
        {
          "output_type": "execute_result",
          "data": {
            "text/plain": [
              "<keras.src.callbacks.History at 0x7bee148c2980>"
            ]
          },
          "metadata": {},
          "execution_count": 19
        }
      ],
      "source": [
        "import os\n",
        "\n",
        "#https://stackoverflow.com/questions/53014306/error-15-initializing-libiomp5-dylib-but-found-libiomp5-dylib-already-initial\n",
        "# os.environ['KMP_DUPLICATE_LIB_OK']='True'\n",
        "\n",
        "# TODO: Compile and fit your model\n",
        "model = my_model(X_train_norm.shape[1])\n",
        "\n",
        "model.compile(optimizer='adam', loss='categorical_crossentropy', metrics=['accuracy'])\n",
        "\n",
        "model.fit(X_train_norm, y_train_cat, epochs=100, batch_size=128)"
      ]
    },
    {
      "cell_type": "markdown",
      "metadata": {
        "id": "1jXxSACLkYjt"
      },
      "source": [
        "Once your model has been trained, compute the accuracy (and other metrics if you want) on the train and test dataset.\n",
        "\n",
        "Be careful, Keras returns softmax output (so an array of 10 values between 0 and 1, for which the sum is equal to 1). To compute correctly the accuracy, you have to convert that array into a categorical array with zeros and a 1."
      ]
    },
    {
      "cell_type": "code",
      "execution_count": 20,
      "metadata": {
        "colab": {
          "base_uri": "https://localhost:8080/"
        },
        "id": "M0IrmJzOkYjt",
        "outputId": "174904fc-8f95-4881-cd0f-a244df49b6b8"
      },
      "outputs": [
        {
          "output_type": "stream",
          "name": "stdout",
          "text": [
            "accuracy on train with NN: 0.9146000146865845\n",
            "accuracy on test with NN: 0.8324000239372253\n"
          ]
        }
      ],
      "source": [
        "# TODO: Compute the accuracy of your model\n",
        "print('accuracy on train with NN:', model.evaluate(X_train_norm, y_train_cat, verbose=0)[1])\n",
        "print('accuracy on test with NN:', model.evaluate(X_test_norm, y_test_cat, verbose=0)[1])"
      ]
    },
    {
      "cell_type": "markdown",
      "metadata": {
        "id": "FBy2A55ikYjt"
      },
      "source": [
        "What do you think of those results? Can you improve it by changing the number of layers? Of units per layer? The number of epochs? The activation functions?\n",
        "\n",
        "You should try!"
      ]
    },
    {
      "cell_type": "markdown",
      "metadata": {
        "id": "p9xqHhgLkYju"
      },
      "source": [
        "---"
      ]
    },
    {
      "cell_type": "markdown",
      "metadata": {
        "id": "vgjagYc3kYju"
      },
      "source": [
        "In order to compare your results with more traditional machine learning methods, you will do this work with another method: a PCA followed by a classification model (of your choice). Of course, you can perform hyperparameter optimization using a gridsearch on that model!\n",
        "\n",
        "Fit your model and display the performances."
      ]
    },
    {
      "cell_type": "code",
      "execution_count": 21,
      "metadata": {
        "id": "TOvQHGzHkYju"
      },
      "outputs": [],
      "source": [
        "# TODO: Redo the classification with PCA and classification model\n",
        "from sklearn.decomposition import PCA\n",
        "\n",
        "pca = PCA(n_components=0.95)\n",
        "\n",
        "pca.fit(X_train_norm)\n",
        "X_train_pca = pca.transform(X_train_norm)\n",
        "X_test_pca = pca.transform(X_test_norm)"
      ]
    },
    {
      "cell_type": "code",
      "execution_count": 22,
      "metadata": {
        "colab": {
          "base_uri": "https://localhost:8080/"
        },
        "id": "v2vm57GtkYju",
        "outputId": "5e99174e-a0d7-4ba9-ac7d-1cf7880e0718"
      },
      "outputs": [
        {
          "output_type": "stream",
          "name": "stdout",
          "text": [
            "score with RF on train 1.0\n",
            "score with RF on train 0.8329\n"
          ]
        }
      ],
      "source": [
        "# TODO: use any classifier you want\n",
        "from sklearn.ensemble import RandomForestClassifier\n",
        "\n",
        "rf = RandomForestClassifier()\n",
        "\n",
        "rf.fit(X_train_pca, y_train)\n",
        "\n",
        "print('score with RF on train', rf.score(X_train_pca, y_train))\n",
        "print('score with RF on train', rf.score(X_test_pca, y_test))"
      ]
    },
    {
      "cell_type": "markdown",
      "metadata": {
        "id": "m_8ysKPQkYju"
      },
      "source": [
        "Are the performances different? Can you explain why?"
      ]
    },
    {
      "cell_type": "markdown",
      "metadata": {
        "id": "MMETohsvkYjv"
      },
      "source": [
        "If you still have time, you could try to use scikit-learn's `Pipeline` to perform the hyperparameter optimization jointly on the PCA and the classification model. This might improve your performances."
      ]
    }
  ],
  "metadata": {
    "kernelspec": {
      "display_name": "Python 3",
      "language": "python",
      "name": "python3"
    },
    "language_info": {
      "codemirror_mode": {
        "name": "ipython",
        "version": 3
      },
      "file_extension": ".py",
      "mimetype": "text/x-python",
      "name": "python",
      "nbconvert_exporter": "python",
      "pygments_lexer": "ipython3",
      "version": "3.7.4"
    },
    "toc": {
      "base_numbering": 1,
      "nav_menu": {},
      "number_sections": true,
      "sideBar": true,
      "skip_h1_title": false,
      "title_cell": "Table of Contents",
      "title_sidebar": "Contents",
      "toc_cell": false,
      "toc_position": {},
      "toc_section_display": true,
      "toc_window_display": false
    },
    "colab": {
      "provenance": []
    }
  },
  "nbformat": 4,
  "nbformat_minor": 0
}